{
 "cells": [
  {
   "cell_type": "markdown",
   "id": "2459825e",
   "metadata": {},
   "source": [
    "## Multiplying adjectent elements and finding the max"
   ]
  },
  {
   "cell_type": "code",
   "execution_count": 107,
   "id": "473957ae",
   "metadata": {},
   "outputs": [
    {
     "name": "stdout",
     "output_type": "stream",
     "text": [
      "42\n",
      "3\n"
     ]
    }
   ],
   "source": [
    "list3 = [1,2,3,4,5,6,7]\n",
    "list4 = []\n",
    "\n",
    "print(max(a * b for a,b in zip(list3,list3[1:])))\n",
    "\n",
    "print(3)"
   ]
  },
  {
   "cell_type": "code",
   "execution_count": 169,
   "id": "3e930b6f",
   "metadata": {},
   "outputs": [
    {
     "name": "stdout",
     "output_type": "stream",
     "text": [
      "4\n",
      "5\n",
      "6\n"
     ]
    },
    {
     "data": {
      "text/plain": [
       "30"
      ]
     },
     "execution_count": 169,
     "metadata": {},
     "output_type": "execute_result"
    }
   ],
   "source": [
    "inputArray = [1,3,4,5,6]\n",
    "def solution(inputArray):\n",
    "    best = inputArray[0] * inputArray[1]\n",
    "    for i in range(1, len(inputArray) - 1):\n",
    "        print(inputArray[i + 1])\n",
    "        temp = inputArray[i] * inputArray[i + 1]\n",
    "        if temp > best:\n",
    "            best = temp\n",
    "    return best\n",
    "\n",
    "solution(inputArray)\n",
    "\n",
    "\n",
    "\n",
    "\n",
    "\n"
   ]
  },
  {
   "cell_type": "markdown",
   "id": "f9671233",
   "metadata": {},
   "source": [
    "## Finding the area of a interesting polygon"
   ]
  },
  {
   "cell_type": "code",
   "execution_count": 289,
   "id": "5c0a1862",
   "metadata": {},
   "outputs": [
    {
     "name": "stdout",
     "output_type": "stream",
     "text": [
      "97986001\n"
     ]
    }
   ],
   "source": [
    "z = 7000\n",
    "x = z + 1 \n",
    "sq = []\n",
    "area = []\n",
    "\n",
    "for i in range(x):\n",
    "    \n",
    "    area.append( i * i)\n",
    "    sq.append(area[i] + area[i-1])\n",
    "\n",
    "#print(area)\n",
    "print(sq[z])"
   ]
  },
  {
   "cell_type": "markdown",
   "id": "28659913",
   "metadata": {},
   "source": [
    "## Make array concecutive"
   ]
  },
  {
   "cell_type": "code",
   "execution_count": 142,
   "id": "d2fc48b1",
   "metadata": {},
   "outputs": [
    {
     "name": "stdout",
     "output_type": "stream",
     "text": [
      "[0, 1, 2, 3]\n",
      "2\n"
     ]
    }
   ],
   "source": [
    "a = [0,3]\n",
    "a.sort()\n",
    "count = 0\n",
    "\n",
    "\n",
    "for j,i in enumerate(a):\n",
    "    \n",
    "    if ((a[j]-a[j -1]) > 1):\n",
    "        count+=1\n",
    "        a.insert(j,(a[j-1] + 1))\n",
    "        \n",
    "        \n",
    "\n",
    "print(a)\n",
    "print(count)\n",
    "\n",
    "\n",
    "\n",
    "\n",
    "#for i in range(len(a)):\n",
    "    \n",
    "    #while((a[i] - a[i - 1]) > 1):\n",
    "        #print(i)\n",
    "        #a.insert(i,(a[i - 1]+1))\n",
    "        #count+=1\n",
    "        \n",
    "    #if ((a[i] - a[i - 1]) > 1):\n",
    "        #count += 1\n",
    "        #a.insert(i,a[i-1]+1)\n",
    "    \n",
    "        \n",
    "#[2, 3, 4, 5, 6, 8, 9, 15]\n",
    "#2, 5, 8, 9, 13, 3, 6, 10, 4, 7, 5"
   ]
  },
  {
   "cell_type": "code",
   "execution_count": 286,
   "id": "36517e29",
   "metadata": {},
   "outputs": [
    {
     "name": "stdout",
     "output_type": "stream",
     "text": [
      "1 3\n",
      "3 2\n"
     ]
    },
    {
     "ename": "IndexError",
     "evalue": "list index out of range",
     "output_type": "error",
     "traceback": [
      "\u001b[0;31m---------------------------------------------------------------------------\u001b[0m",
      "\u001b[0;31mIndexError\u001b[0m                                Traceback (most recent call last)",
      "\u001b[0;32m<ipython-input-286-1b826e59ecd7>\u001b[0m in \u001b[0;36m<module>\u001b[0;34m\u001b[0m\n\u001b[1;32m     10\u001b[0m     \u001b[0mprint\u001b[0m\u001b[0;34m(\u001b[0m\u001b[0mx\u001b[0m\u001b[0;34m,\u001b[0m\u001b[0my\u001b[0m\u001b[0;34m)\u001b[0m\u001b[0;34m\u001b[0m\u001b[0;34m\u001b[0m\u001b[0m\n\u001b[1;32m     11\u001b[0m \u001b[0;34m\u001b[0m\u001b[0m\n\u001b[0;32m---> 12\u001b[0;31m     \u001b[0;32mif\u001b[0m\u001b[0;34m(\u001b[0m\u001b[0;34m(\u001b[0m\u001b[0ma\u001b[0m\u001b[0;34m[\u001b[0m\u001b[0my\u001b[0m\u001b[0;34m]\u001b[0m \u001b[0;34m-\u001b[0m \u001b[0ma\u001b[0m\u001b[0;34m[\u001b[0m\u001b[0mx\u001b[0m\u001b[0;34m]\u001b[0m\u001b[0;34m)\u001b[0m \u001b[0;34m<\u001b[0m \u001b[0;36m0\u001b[0m\u001b[0;34m)\u001b[0m\u001b[0;34m:\u001b[0m\u001b[0;34m\u001b[0m\u001b[0;34m\u001b[0m\u001b[0m\n\u001b[0m\u001b[1;32m     13\u001b[0m         \u001b[0ma\u001b[0m\u001b[0;34m.\u001b[0m\u001b[0mpop\u001b[0m\u001b[0;34m(\u001b[0m\u001b[0my\u001b[0m\u001b[0;34m)\u001b[0m\u001b[0;34m\u001b[0m\u001b[0;34m\u001b[0m\u001b[0m\n\u001b[1;32m     14\u001b[0m         \u001b[0mcount\u001b[0m\u001b[0;34m+=\u001b[0m\u001b[0;36m1\u001b[0m\u001b[0;34m\u001b[0m\u001b[0;34m\u001b[0m\u001b[0m\n",
      "\u001b[0;31mIndexError\u001b[0m: list index out of range"
     ]
    }
   ],
   "source": [
    "\n",
    "    \n",
    "a = [1,3,2,1]\n",
    "count = 0\n",
    "\n",
    "for x,y in zip(a,a[1:]):\n",
    "    print(x,y)\n",
    "    \n",
    "    if((a[y] - a[x]) < 0):\n",
    "        a.pop(y)\n",
    "        count+=1\n",
    "        if(count > 1):\n",
    "            print(False)\n",
    "            break\n",
    "\n",
    "\n",
    "        \n",
    "#print(count)\n",
    "#print(a)\n",
    "\n",
    "\n",
    "    "
   ]
  },
  {
   "cell_type": "code",
   "execution_count": null,
   "id": "801f524d",
   "metadata": {},
   "outputs": [],
   "source": []
  }
 ],
 "metadata": {
  "kernelspec": {
   "display_name": "Python 3",
   "language": "python",
   "name": "python3"
  },
  "language_info": {
   "codemirror_mode": {
    "name": "ipython",
    "version": 3
   },
   "file_extension": ".py",
   "mimetype": "text/x-python",
   "name": "python",
   "nbconvert_exporter": "python",
   "pygments_lexer": "ipython3",
   "version": "3.8.8"
  }
 },
 "nbformat": 4,
 "nbformat_minor": 5
}

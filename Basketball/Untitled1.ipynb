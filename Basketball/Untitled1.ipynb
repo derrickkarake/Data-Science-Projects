{
 "cells": [
  {
   "cell_type": "code",
   "execution_count": 12,
   "id": "ff559d60",
   "metadata": {},
   "outputs": [
    {
     "data": {
      "text/plain": [
       "2PT    333\n",
       "NC3    186\n",
       "C3      41\n",
       "Name: shot_zone, dtype: int64"
      ]
     },
     "execution_count": 12,
     "metadata": {},
     "output_type": "execute_result"
    }
   ],
   "source": [
    "import pandas as pd\n",
    "import numpy as np\n",
    "\n",
    "data = pd.read_csv('shots_data.csv')\n",
    "\n",
    "#Finding the shot zone\n",
    "def shot_zone(i):\n",
    "    if (abs(i['x']) >= 22 and abs(i['y']) <= 7.8):\n",
    "        return 'C3'\n",
    "    elif (np.hypot(i['x'],i['y']) < 23.75):\n",
    "        return '2PT'\n",
    "    elif (np.hypot(i['x'],i['y']) >= 23.75):\n",
    "        return 'NC3'\n",
    "\n",
    "data['shot_zone'] = data.apply(shot_zone, axis = 1)\n",
    "\n",
    "data['shot_zone'].value_counts()\n",
    "\n"
   ]
  },
  {
   "cell_type": "code",
   "execution_count": 8,
   "id": "3067aede",
   "metadata": {},
   "outputs": [
    {
     "name": "stdout",
     "output_type": "stream",
     "text": [
      "Shot Distribution for Team A\n",
      "2PT    170\n",
      "NC3     90\n",
      "C3      20\n",
      "Name: shot_zone, dtype: int64\n",
      "Shot Distribution for Team B\n",
      "2PT    0.582143\n",
      "NC3    0.342857\n",
      "C3     0.075000\n",
      "Name: shot_zone, dtype: float64\n"
     ]
    }
   ],
   "source": [
    "#Create new column with Points Made from Shot Zone\n",
    "data.loc[data.shot_zone == 'NC3', 'PM'] = 3\n",
    "data.loc[data.shot_zone == 'C3', 'PM'] = 3\n",
    "data.loc[data.shot_zone == '2PT', 'PM'] = 2\n",
    "\n",
    "team_a = data[data.team == 'Team A']\n",
    "team_b = data[data.team == 'Team B']\n",
    "\n",
    "shot_dist_a = team_a['shot_zone'].value_counts()\n",
    "print('Shot Distribution for Team A')\n",
    "print(shot_dist_a)\n",
    "\n",
    "shot_dist_b = team_b['shot_zone'].value_counts('percent')\n",
    "print('Shot Distribution for Team B')\n",
    "print(shot_dist_b)"
   ]
  },
  {
   "cell_type": "code",
   "execution_count": 6,
   "id": "66fc9341",
   "metadata": {},
   "outputs": [],
   "source": [
    "#Field Goal Attempts per Shot Zone per Team\n",
    "total_fga_a = team_a['shot_zone'].shape[0]\n",
    "total_fga_b = team_b['shot_zone'].shape[0]\n",
    "\n",
    "C3_fga_a = team_a['shot_zone'].value_counts().C3\n",
    "C3_fga_b = team_b['shot_zone'].value_counts().C3\n",
    "\n",
    "NC3_fga_a = team_a['shot_zone'].value_counts().NC3\n",
    "NC3_fga_b = team_b['shot_zone'].value_counts().NC3\n",
    "\n",
    "PT2_fga_a = total_fga_a - (C3_fga_a + NC3_fga_a)\n",
    "PT2_fga_b = total_fga_b - (C3_fga_b + NC3_fga_b)\n",
    "\n",
    "#Field Goals Made per Shot Zone per Team\n",
    "C3_fgm_a = (team_a[(team_a.shot_zone == 'C3') & (team_a.fgmade == 1)]).shape[0]\n",
    "C3_fgm_b = (team_b[(team_b.shot_zone == 'C3') & (team_b.fgmade == 1)]).shape[0]\n",
    "\n",
    "NC3_fgm_a = (team_a[(team_a.shot_zone == 'NC3') & (team_a.fgmade == 1)]).shape[0]\n",
    "NC3_fgm_b = (team_b[(team_b.shot_zone == 'NC3') & (team_b.fgmade == 1)]).shape[0]\n",
    "\n",
    "PT2_fgm_a = (team_a[(team_a.shot_zone == '2PT') & (team_a.fgmade == 1)]).shape[0]\n",
    "PT2_fgm_b = (team_b[(team_b.shot_zone == '2PT') & (team_b.fgmade == 1)]).shape[0]\n",
    "\n"
   ]
  },
  {
   "cell_type": "code",
   "execution_count": 16,
   "id": "762e70db",
   "metadata": {},
   "outputs": [
    {
     "name": "stdout",
     "output_type": "stream",
     "text": [
      "0.4114583333333333\n"
     ]
    }
   ],
   "source": [
    "EFGP_2PT_A = (PT2_fgm_a + (0.5*(3*2))) / PT2_fga_a\n",
    "EFGP_2PT_B = (PT2_fgm_b + (0.5*(3*2))) / PT2_fga_b\n",
    "\n",
    "EFGP_C3_A = (C3_fgm_a + (0.5*(3*3))) / C3_fga_a\n",
    "EFGP_C3_B = (C3_fgm_b + (0.5*(3*3))) / C3_fga_b\n",
    "\n",
    "EFGP_NC3_A = (NC3_fgm_a + (0.5*(3*3))) / NC3_fga_a\n",
    "EFGP_NC3_B = (NC3_fgm_b + (0.5*(3*3))) / NC3_fga_b\n",
    "\n",
    "\n",
    "print(EFGP_NC3_B)\n",
    "\n",
    "\n"
   ]
  }
 ],
 "metadata": {
  "kernelspec": {
   "display_name": "Python 3",
   "language": "python",
   "name": "python3"
  },
  "language_info": {
   "codemirror_mode": {
    "name": "ipython",
    "version": 3
   },
   "file_extension": ".py",
   "mimetype": "text/x-python",
   "name": "python",
   "nbconvert_exporter": "python",
   "pygments_lexer": "ipython3",
   "version": "3.8.8"
  }
 },
 "nbformat": 4,
 "nbformat_minor": 5
}
